{
  "nbformat": 4,
  "nbformat_minor": 0,
  "metadata": {
    "colab": {
      "provenance": [],
      "authorship_tag": "ABX9TyPwxwA7PkR0+jOagjYBgF3+",
      "include_colab_link": true
    },
    "kernelspec": {
      "name": "python3",
      "display_name": "Python 3"
    },
    "language_info": {
      "name": "python"
    }
  },
  "cells": [
    {
      "cell_type": "markdown",
      "metadata": {
        "id": "view-in-github",
        "colab_type": "text"
      },
      "source": [
        "<a href=\"https://colab.research.google.com/github/agustinsilva447/Fisica-de-los-Semiconductores/blob/main/4_2d_schrodinger_eq.ipynb\" target=\"_parent\"><img src=\"https://colab.research.google.com/assets/colab-badge.svg\" alt=\"Open In Colab\"/></a>"
      ]
    },
    {
      "cell_type": "code",
      "execution_count": 1,
      "metadata": {
        "id": "WcLVqmNcSZI7"
      },
      "outputs": [],
      "source": [
        "import numpy as np\n",
        "import matplotlib.pyplot as plt\n",
        "\n",
        "from matplotlib import animation\n",
        "from matplotlib.animation import PillowWriter\n",
        "from scipy.sparse.linalg import eigsh\n",
        "from scipy.sparse.linalg import eigs\n",
        "from mpl_toolkits.mplot3d import Axes3D\n",
        "from scipy import sparse"
      ]
    },
    {
      "cell_type": "code",
      "source": [
        "N = 150\n",
        "X, Y = np.meshgrid(np.linspace(0,1,N, dtype=float),\n",
        "                   np.linspace(0,1,N, dtype=float))"
      ],
      "metadata": {
        "id": "55Zp-KTZSpG0"
      },
      "execution_count": 2,
      "outputs": []
    },
    {
      "cell_type": "code",
      "source": [
        "def get_potential_1(x,y):\n",
        "    return 0*x\n",
        "def get_potential_2(x, y):\n",
        "    return np.exp(-(x-0.3)**2/(2*0.1**2))*np.exp(-(y-0.3)**2/(2*0.1**2))\n",
        "V = get_potential_1(X,Y)"
      ],
      "metadata": {
        "id": "L2oxNHoQSv4T"
      },
      "execution_count": 3,
      "outputs": []
    },
    {
      "cell_type": "code",
      "source": [
        "diag  = np.ones([N])\n",
        "diags = np.array([diag, -2*diag, diag])\n",
        "D = sparse.spdiags(diags, np.array([-1,0,1]), N, N)\n",
        "T = -1/2 * sparse.kronsum(D,D)\n",
        "U = sparse.diags(V.reshape(N**2), (0))\n",
        "H = T+U"
      ],
      "metadata": {
        "id": "ejKbjttVS0kE"
      },
      "execution_count": 4,
      "outputs": []
    },
    {
      "cell_type": "code",
      "source": [
        "eigenvalues, eigenvectors = eigsh(H, k=10, which='SM')"
      ],
      "metadata": {
        "id": "ilT6JlXeS8vs"
      },
      "execution_count": 5,
      "outputs": []
    },
    {
      "cell_type": "code",
      "source": [
        "def get_e(n):\n",
        "    return eigenvectors.T[n].reshape((N,N))"
      ],
      "metadata": {
        "id": "Irtwz-hkS-2s"
      },
      "execution_count": 6,
      "outputs": []
    },
    {
      "cell_type": "code",
      "source": [
        "plt.figure(figsize=(9,9))\n",
        "plt.contourf(X, Y, get_e(0)**2, 20)\n",
        "plt.show()"
      ],
      "metadata": {
        "colab": {
          "base_uri": "https://localhost:8080/",
          "height": 541
        },
        "id": "6cmj55frTBlb",
        "outputId": "d8390018-f3b0-4891-9b32-8bdc26d79b55"
      },
      "execution_count": 10,
      "outputs": [
        {
          "output_type": "display_data",
          "data": {
            "text/plain": [
              "<Figure size 648x648 with 1 Axes>"
            ],
            "image/png": "[encoded data removed]"
          },
          "metadata": {
            "needs_background": "light"
          }
        }
      ]
    },
    {
      "cell_type": "code",
      "source": [
        "my_cmap = plt.get_cmap('cool')\n",
        "\n",
        "def init():\n",
        "    # Plot the surface.\n",
        "    ax.plot_surface(X, Y, get_e(3)**2, cmap=my_cmap, linewidth=0, antialiased=False)\n",
        "    ax.set_xlabel('$x/a$')\n",
        "    ax.set_ylabel('$y/a$')\n",
        "    ax.set_zlabel('$\\propto|\\psi|^2$')\n",
        "    return fig,\n",
        "\n",
        "def animate(i):\n",
        "    ax.view_init(elev=10, azim=4*i)\n",
        "    return fig,\n",
        "\n",
        "fig = plt.figure()\n",
        "ax = Axes3D(fig)\n",
        "ani = animation.FuncAnimation(fig, animate, init_func=init, frames=90, interval=50)\n",
        "ani.save('rotate_azimuth_angle_3d_surf.gif',writer='pillow',fps=20)"
      ],
      "metadata": {
        "colab": {
          "base_uri": "https://localhost:8080/",
          "height": 34
        },
        "id": "hPuOAnOBTEzM",
        "outputId": "839dd4d5-2df2-47ea-c1aa-4898f760d8a8"
      },
      "execution_count": 8,
      "outputs": [
        {
          "output_type": "display_data",
          "data": {
            "text/plain": [
              "<Figure size 432x288 with 0 Axes>"
            ]
          },
          "metadata": {}
        }
      ]
    },
    {
      "cell_type": "code",
      "source": [
        "alpha = eigenvalues[0]/2\n",
        "E_div_alpha = eigenvalues/alpha\n",
        "_ = np.arange(0, len(eigenvalues), 1)\n",
        "plt.scatter(_, E_div_alpha)"
      ],
      "metadata": {
        "colab": {
          "base_uri": "https://localhost:8080/",
          "height": 282
        },
        "id": "U7X57ONqTLck",
        "outputId": "c71a1878-7ca8-4496-a83f-2e78af415780"
      },
      "execution_count": 9,
      "outputs": [
        {
          "output_type": "execute_result",
          "data": {
            "text/plain": [
              "<matplotlib.collections.PathCollection at 0x7f60d11a7f10>"
            ]
          },
          "metadata": {},
          "execution_count": 9
        },
        {
          "output_type": "display_data",
          "data": {
            "text/plain": [
              "<Figure size 432x288 with 1 Axes>"
            ],
            "image/png": "[encoded data removed]"
          },
          "metadata": {
            "needs_background": "light"
          }
        }
      ]
    },
    {
      "cell_type": "code",
      "source": [],
      "metadata": {
        "id": "qzd_whkDTNu7"
      },
      "execution_count": 9,
      "outputs": []
    }
  ]
}