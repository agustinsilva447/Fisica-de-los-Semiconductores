{
  "nbformat": 4,
  "nbformat_minor": 0,
  "metadata": {
    "colab": {
      "provenance": [],
      "authorship_tag": "ABX9TyNlQHjvosx4LLqYvPcNdxpL",
      "include_colab_link": true
    },
    "kernelspec": {
      "name": "python3",
      "display_name": "Python 3"
    },
    "language_info": {
      "name": "python"
    }
  },
  "cells": [
    {
      "cell_type": "markdown",
      "metadata": {
        "id": "view-in-github",
        "colab_type": "text"
      },
      "source": [
        "<a href=\"https://colab.research.google.com/github/agustinsilva447/Fisica-de-los-Semiconductores/blob/main/4_2d_schrodinger_eq.ipynb\" target=\"_parent\"><img src=\"https://colab.research.google.com/assets/colab-badge.svg\" alt=\"Open In Colab\"/></a>"
      ]
    },
    {
      "cell_type": "code",
      "execution_count": 1,
      "metadata": {
        "id": "WcLVqmNcSZI7"
      },
      "outputs": [],
      "source": [
        "import numpy as np\n",
        "import matplotlib.pyplot as plt\n",
        "\n",
        "from matplotlib import animation\n",
        "from matplotlib.animation import PillowWriter\n",
        "from scipy.sparse.linalg import eigsh\n",
        "from scipy.sparse.linalg import eigs\n",
        "from mpl_toolkits.mplot3d import Axes3D\n",
        "from scipy import sparse"
      ]
    },
    {
      "cell_type": "code",
      "source": [
        "N = 150\n",
        "X, Y = np.meshgrid(np.linspace(0,1,N, dtype=float),\n",
        "                   np.linspace(0,1,N, dtype=float))"
      ],
      "metadata": {
        "id": "55Zp-KTZSpG0"
      },
      "execution_count": 2,
      "outputs": []
    },
    {
      "cell_type": "code",
      "source": [
        "def get_potential_1(x,y):\n",
        "    return 0*x\n",
        "def get_potential_2(x, y):\n",
        "    return np.exp(-(x-0.3)**2/(2*0.1**2))*np.exp(-(y-0.3)**2/(2*0.1**2))\n",
        "V = get_potential_1(X,Y)"
      ],
      "metadata": {
        "id": "L2oxNHoQSv4T"
      },
      "execution_count": 3,
      "outputs": []
    },
    {
      "cell_type": "code",
      "source": [
        "diag  = np.ones([N])\n",
        "diags = np.array([diag, -2*diag, diag])\n",
        "D = sparse.spdiags(diags, np.array([-1,0,1]), N, N)\n",
        "T = -1/2 * sparse.kronsum(D,D)\n",
        "U = sparse.diags(V.reshape(N**2), (0))\n",
        "H = T+U"
      ],
      "metadata": {
        "id": "ejKbjttVS0kE"
      },
      "execution_count": 4,
      "outputs": []
    },
    {
      "cell_type": "code",
      "source": [
        "eigenvalues, eigenvectors = eigsh(H, k=10, which='SM')"
      ],
      "metadata": {
        "id": "ilT6JlXeS8vs"
      },
      "execution_count": 5,
      "outputs": []
    },
    {
      "cell_type": "code",
      "source": [
        "def get_e(n):\n",
        "    return eigenvectors.T[n].reshape((N,N))"
      ],
      "metadata": {
        "id": "Irtwz-hkS-2s"
      },
      "execution_count": 6,
      "outputs": []
    },
    {
      "cell_type": "code",
      "source": [
        "fig0, axs = plt.subplots(1,2,figsize=(20,8))\n",
        "axs[0].set_title(\"Potencial 2D\")\n",
        "axs[0].contourf(X, Y, V, 20)\n",
        "axs[1].set_title(\"Función de onda, modulo cuadrado\")\n",
        "axs[1].contourf(X, Y, get_e(0)**2, 20)\n",
        "plt.show()"
      ],
      "metadata": {
        "colab": {
          "base_uri": "https://localhost:8080/",
          "height": 499
        },
        "id": "6cmj55frTBlb",
        "outputId": "d67b757a-faaf-49fb-b08c-843f4f021571"
      },
      "execution_count": 7,
      "outputs": [
        {
          "output_type": "display_data",
          "data": {
            "text/plain": [
              "<Figure size 1440x576 with 2 Axes>"
            ],
            "image/png": "[encoded data removed]"
          },
          "metadata": {
            "needs_background": "light"
          }
        }
      ]
    },
    {
      "cell_type": "code",
      "source": [
        "\"\"\"my_cmap = plt.get_cmap('cool')\n",
        "\n",
        "def init():\n",
        "    # Plot the surface.\n",
        "    ax.plot_surface(X, Y, get_e(3)**2, cmap=my_cmap, linewidth=0, antialiased=False)\n",
        "    ax.set_xlabel('$x/a$')\n",
        "    ax.set_ylabel('$y/a$')\n",
        "    ax.set_zlabel('$\\propto|\\psi|^2$')\n",
        "    return fig,\n",
        "\n",
        "def animate(i):\n",
        "    ax.view_init(elev=10, azim=4*i)\n",
        "    return fig,\n",
        "\n",
        "fig = plt.figure()\n",
        "ax = Axes3D(fig)\n",
        "ani = animation.FuncAnimation(fig, animate, init_func=init, frames=90, interval=50)\n",
        "ani.save('rotate_azimuth_angle_3d_surf.gif',writer='pillow',fps=20)\"\"\""
      ],
      "metadata": {
        "colab": {
          "base_uri": "https://localhost:8080/",
          "height": 70
        },
        "id": "hPuOAnOBTEzM",
        "outputId": "bf162f06-3086-4746-8511-cfe64105dd18"
      },
      "execution_count": 8,
      "outputs": [
        {
          "output_type": "execute_result",
          "data": {
            "text/plain": [
              "\"my_cmap = plt.get_cmap('cool')\\n\\ndef init():\\n    # Plot the surface.\\n    ax.plot_surface(X, Y, get_e(3)**2, cmap=my_cmap, linewidth=0, antialiased=False)\\n    ax.set_xlabel('$x/a$')\\n    ax.set_ylabel('$y/a$')\\n    ax.set_zlabel('$\\\\propto|\\\\psi|^2$')\\n    return fig,\\n\\ndef animate(i):\\n    ax.view_init(elev=10, azim=4*i)\\n    return fig,\\n\\nfig = plt.figure()\\nax = Axes3D(fig)\\nani = animation.FuncAnimation(fig, animate, init_func=init, frames=90, interval=50)\\nani.save('rotate_azimuth_angle_3d_surf.gif',writer='pillow',fps=20)\""
            ],
            "application/vnd.google.colaboratory.intrinsic+json": {
              "type": "string"
            }
          },
          "metadata": {},
          "execution_count": 8
        }
      ]
    },
    {
      "cell_type": "code",
      "source": [
        "alpha = eigenvalues[0]/2\n",
        "E_div_alpha = eigenvalues/alpha\n",
        "_ = np.arange(0, len(eigenvalues), 1)\n",
        "plt.scatter(_, E_div_alpha)"
      ],
      "metadata": {
        "colab": {
          "base_uri": "https://localhost:8080/",
          "height": 282
        },
        "id": "U7X57ONqTLck",
        "outputId": "4ce772b2-8998-4041-e675-b81e5747d6d1"
      },
      "execution_count": 9,
      "outputs": [
        {
          "output_type": "execute_result",
          "data": {
            "text/plain": [
              "<matplotlib.collections.PathCollection at 0x7fdea17a65b0>"
            ]
          },
          "metadata": {},
          "execution_count": 9
        },
        {
          "output_type": "display_data",
          "data": {
            "text/plain": [
              "<Figure size 432x288 with 1 Axes>"
            ],
            "image/png": "[encoded data removed]"
          },
          "metadata": {
            "needs_background": "light"
          }
        }
      ]
    }
  ]
}